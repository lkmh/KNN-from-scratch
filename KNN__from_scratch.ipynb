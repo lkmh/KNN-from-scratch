{
  "nbformat": 4,
  "nbformat_minor": 0,
  "metadata": {
    "colab": {
      "name": "KNN from scratch.ipynb",
      "version": "0.3.2",
      "provenance": [],
      "collapsed_sections": []
    }
  },
  "cells": [
    {
      "metadata": {
        "id": "Mfc8v3LBcqSk",
        "colab_type": "text"
      },
      "cell_type": "markdown",
      "source": [
        "**What is k-Nearest Neighbours ?**    \n",
        "k-Nearest Neighbours finds the most similar training examples (how close in terms of Euclidean distance) with the test examples.     \n",
        "It classifies the test examples by a majority vote among the k-most similar examples  \n",
        "\n",
        "\n",
        "k-Nearest Neighbours is a non-parametric and lazy algorithm \n",
        ">Non-parametic: Does not make any assumptions about the distributions of the underlying data    \n",
        ">Lazy : Does not use the training data points to do any generalization i.e. It is fast \n",
        "\n"
      ]
    },
    {
      "metadata": {
        "id": "XOQY8j5PSLci",
        "colab_type": "text"
      },
      "cell_type": "markdown",
      "source": [
        "**Implement k-Nearest Neighbours from Scratch in Python **\n",
        "\n",
        "1) Load the Iris data set   \n",
        "2) Split into training and test dataset and convert to numpy arrays   \n",
        "3) Functions: \n",
        "> 3a) Create function to find the Euclidean distance between Test example and training example      \n",
        "> 3b) Create function to find the k - nearest training examples from the test example       \n",
        "> 3c) Create function to count votes the classification of k-nearest training examples and the maximum votes is the prediction      \n",
        "> 3d) Creat function to get accuracy from the prediction and test results   \n",
        "\n",
        "4) Create a function that run 3 functions for each test example  "
      ]
    },
    {
      "metadata": {
        "id": "4TxQ9EYTh9Uy",
        "colab_type": "code",
        "colab": {}
      },
      "cell_type": "code",
      "source": [
        "# Import iris datasets \n",
        "from sklearn.datasets import load_iris\n",
        "data = load_iris()\n"
      ],
      "execution_count": 0,
      "outputs": []
    },
    {
      "metadata": {
        "id": "-cOGASFWiGZB",
        "colab_type": "code",
        "colab": {
          "base_uri": "https://localhost:8080/",
          "height": 204
        },
        "outputId": "8e81000f-459e-478c-fef0-aa3fd36228c9"
      },
      "cell_type": "code",
      "source": [
        "# Import libraries \n",
        "import pandas as pd\n",
        "import numpy as np\n",
        "\n",
        "# Import data to dataframe \n",
        "df = pd.DataFrame(data= np.c_[data['data'], data['target']], columns= data['feature_names'] + ['target'])\n",
        "df['label'] = df.target.replace(dict(enumerate(data.target_names)))\n",
        "df = df.drop(['target'], axis=1)\n",
        "df.head()\n"
      ],
      "execution_count": 48,
      "outputs": [
        {
          "output_type": "execute_result",
          "data": {
            "text/html": [
              "<div>\n",
              "<style scoped>\n",
              "    .dataframe tbody tr th:only-of-type {\n",
              "        vertical-align: middle;\n",
              "    }\n",
              "\n",
              "    .dataframe tbody tr th {\n",
              "        vertical-align: top;\n",
              "    }\n",
              "\n",
              "    .dataframe thead th {\n",
              "        text-align: right;\n",
              "    }\n",
              "</style>\n",
              "<table border=\"1\" class=\"dataframe\">\n",
              "  <thead>\n",
              "    <tr style=\"text-align: right;\">\n",
              "      <th></th>\n",
              "      <th>sepal length (cm)</th>\n",
              "      <th>sepal width (cm)</th>\n",
              "      <th>petal length (cm)</th>\n",
              "      <th>petal width (cm)</th>\n",
              "      <th>label</th>\n",
              "    </tr>\n",
              "  </thead>\n",
              "  <tbody>\n",
              "    <tr>\n",
              "      <th>0</th>\n",
              "      <td>5.1</td>\n",
              "      <td>3.5</td>\n",
              "      <td>1.4</td>\n",
              "      <td>0.2</td>\n",
              "      <td>setosa</td>\n",
              "    </tr>\n",
              "    <tr>\n",
              "      <th>1</th>\n",
              "      <td>4.9</td>\n",
              "      <td>3.0</td>\n",
              "      <td>1.4</td>\n",
              "      <td>0.2</td>\n",
              "      <td>setosa</td>\n",
              "    </tr>\n",
              "    <tr>\n",
              "      <th>2</th>\n",
              "      <td>4.7</td>\n",
              "      <td>3.2</td>\n",
              "      <td>1.3</td>\n",
              "      <td>0.2</td>\n",
              "      <td>setosa</td>\n",
              "    </tr>\n",
              "    <tr>\n",
              "      <th>3</th>\n",
              "      <td>4.6</td>\n",
              "      <td>3.1</td>\n",
              "      <td>1.5</td>\n",
              "      <td>0.2</td>\n",
              "      <td>setosa</td>\n",
              "    </tr>\n",
              "    <tr>\n",
              "      <th>4</th>\n",
              "      <td>5.0</td>\n",
              "      <td>3.6</td>\n",
              "      <td>1.4</td>\n",
              "      <td>0.2</td>\n",
              "      <td>setosa</td>\n",
              "    </tr>\n",
              "  </tbody>\n",
              "</table>\n",
              "</div>"
            ],
            "text/plain": [
              "   sepal length (cm)  sepal width (cm)  petal length (cm)  petal width (cm)  \\\n",
              "0                5.1               3.5                1.4               0.2   \n",
              "1                4.9               3.0                1.4               0.2   \n",
              "2                4.7               3.2                1.3               0.2   \n",
              "3                4.6               3.1                1.5               0.2   \n",
              "4                5.0               3.6                1.4               0.2   \n",
              "\n",
              "    label  \n",
              "0  setosa  \n",
              "1  setosa  \n",
              "2  setosa  \n",
              "3  setosa  \n",
              "4  setosa  "
            ]
          },
          "metadata": {
            "tags": []
          },
          "execution_count": 48
        }
      ]
    },
    {
      "metadata": {
        "id": "NlFaoSfQiXef",
        "colab_type": "code",
        "colab": {}
      },
      "cell_type": "code",
      "source": [
        "# Splitting data sets \n",
        "\n",
        "from sklearn.utils import shuffle\n",
        "df = shuffle(df)\n",
        "\n",
        "split = 0.8\n",
        "\n",
        "end_of_training = int(len(df) * split)\n",
        "\n",
        "train_set = df.iloc[:end_of_training]\n",
        "\n",
        "test_set = df.iloc[end_of_training:]\n",
        "\n",
        "\n",
        "# Converting dataset to train & test \n",
        "train_set = train_set.values\n",
        "test_set = test_set.values"
      ],
      "execution_count": 0,
      "outputs": []
    },
    {
      "metadata": {
        "id": "Jd0UITsImdnS",
        "colab_type": "code",
        "colab": {
          "base_uri": "https://localhost:8080/",
          "height": 187
        },
        "outputId": "48833f33-a02b-4a91-eba1-35530156ecb8"
      },
      "cell_type": "code",
      "source": [
        "# array[start:stop]\n",
        "print(train_set[:5])\n",
        "\n",
        "# array row #2 (starts from row 0) \n",
        "print(train_set[1])\n",
        "\n",
        "# array row #2 + first 3 columns (start from column 0)\n",
        "print(train_set[1][:3])\n",
        "\n",
        "# array shape [121,5] => 121 rows and 5 columns \n",
        "\n",
        "# array number of rows \n",
        "print(train_set.shape)\n",
        "print((train_set).shape[0])\n",
        "\n",
        "# array number columns \n",
        "print((train_set).shape[1])\n"
      ],
      "execution_count": 81,
      "outputs": [
        {
          "output_type": "stream",
          "text": [
            "[[5.2 3.4 1.4 0.2 'setosa']\n",
            " [5.6 2.9 3.6 1.3 'versicolor']\n",
            " [4.8 3.0 1.4 0.1 'setosa']\n",
            " [6.5 3.0 5.5 1.8 'virginica']\n",
            " [6.5 2.8 4.6 1.5 'versicolor']]\n",
            "[5.6 2.9 3.6 1.3 'versicolor']\n",
            "[5.6 2.9 3.6]\n",
            "(120, 5)\n",
            "120\n",
            "5\n"
          ],
          "name": "stdout"
        }
      ]
    },
    {
      "metadata": {
        "id": "HyreM7OCxMz3",
        "colab_type": "code",
        "colab": {}
      },
      "cell_type": "code",
      "source": [
        "#find the distance between test and training example  \n",
        "import math \n",
        "\n",
        "\n",
        "def euclideandistance(example1, example2):\n",
        "  distance = []\n",
        "  distance = [pow((example1[feature_number] - example2[feature_number]),2) for feature_number in range(example1.shape[0]-1)]\n",
        "  euclideandistance = math.sqrt(sum(distance))\n",
        "  return euclideandistance"
      ],
      "execution_count": 0,
      "outputs": []
    },
    {
      "metadata": {
        "id": "3GG6P9zGzuC5",
        "colab_type": "code",
        "colab": {}
      },
      "cell_type": "code",
      "source": [
        "# find the k closest distances of example to the training set \n",
        "import operator \n",
        "\n",
        "def getk_closest(train_set, test_example, k):\n",
        "  distances = []\n",
        "  example1 = test_example\n",
        "  for train_number in range((train_set).shape[0]):\n",
        "    example2 = train_set[train_number]\n",
        "    distances.append((example2[4] , euclideandistance(example1, example2)))\n",
        "  distances.sort(key=operator.itemgetter(1))\n",
        "  k_closest = []\n",
        "  k_closest = distances[:k]\n",
        "  return k_closest\n",
        "\n",
        "  "
      ],
      "execution_count": 0,
      "outputs": []
    },
    {
      "metadata": {
        "id": "jGW8_1nE4U6a",
        "colab_type": "code",
        "colab": {}
      },
      "cell_type": "code",
      "source": [
        "# Getting the prediction \n",
        "\n",
        "from collections import Counter \n",
        "\n",
        "def prediction(k_closest):\n",
        "  lis2 = [x[0] for x in k_closest]\n",
        "  prediction = Counter(lis2).most_common(1)[0][0]\n",
        "  return(prediction)\n"
      ],
      "execution_count": 0,
      "outputs": []
    },
    {
      "metadata": {
        "id": "iG3-lBlJ9Zxd",
        "colab_type": "code",
        "colab": {}
      },
      "cell_type": "code",
      "source": [
        "# Getting the accuracy \n",
        "\n",
        "def score(test_set, prediction):\n",
        "  score = []\n",
        "  for test_number in range(len(test_set)):\n",
        "    if test_set[test_number][-1] == prediction[test_number]:\n",
        "      score.append(1)\n",
        "    else:\n",
        "      score.append(0)\n",
        "  accuracy = float(float(sum(score))/float(len(score))*100)\n",
        "\n",
        "  return ((accuracy))\n"
      ],
      "execution_count": 0,
      "outputs": []
    },
    {
      "metadata": {
        "id": "CkXeDt-V9qoN",
        "colab_type": "code",
        "colab": {
          "base_uri": "https://localhost:8080/",
          "height": 544
        },
        "outputId": "7abeefde-d61c-4376-ae80-14a7024fd776"
      },
      "cell_type": "code",
      "source": [
        "# Runs the functions above for each test example find the prediciton \n",
        "# Output the accuracy of the prediciont \n",
        "\n",
        "k  = 3\n",
        "predictions = []\n",
        "def main():\n",
        "  for x in range(len(test_set)):\n",
        "    k_closest = getk_closest(train_set, test_set[x], k)\n",
        "    #print((k_closest))\n",
        "    prediction(k_closest)\n",
        "    predictions.append(prediction(k_closest))\n",
        "    print 'Test Number', x , '=> Predicted:', prediction(k_closest), ': Actual' , test_set[x][-1]\n",
        "  print 'Accuracy:' , score(test_set, predictions),'%'\n",
        "  \n",
        "  \n",
        "main()"
      ],
      "execution_count": 89,
      "outputs": [
        {
          "output_type": "stream",
          "text": [
            "Test Number 0 => Predicted: setosa : Actual setosa\n",
            "Test Number 1 => Predicted: virginica : Actual virginica\n",
            "Test Number 2 => Predicted: virginica : Actual virginica\n",
            "Test Number 3 => Predicted: virginica : Actual versicolor\n",
            "Test Number 4 => Predicted: setosa : Actual setosa\n",
            "Test Number 5 => Predicted: versicolor : Actual versicolor\n",
            "Test Number 6 => Predicted: versicolor : Actual versicolor\n",
            "Test Number 7 => Predicted: versicolor : Actual versicolor\n",
            "Test Number 8 => Predicted: setosa : Actual setosa\n",
            "Test Number 9 => Predicted: setosa : Actual setosa\n",
            "Test Number 10 => Predicted: versicolor : Actual versicolor\n",
            "Test Number 11 => Predicted: versicolor : Actual versicolor\n",
            "Test Number 12 => Predicted: virginica : Actual virginica\n",
            "Test Number 13 => Predicted: virginica : Actual virginica\n",
            "Test Number 14 => Predicted: versicolor : Actual versicolor\n",
            "Test Number 15 => Predicted: setosa : Actual setosa\n",
            "Test Number 16 => Predicted: setosa : Actual setosa\n",
            "Test Number 17 => Predicted: virginica : Actual virginica\n",
            "Test Number 18 => Predicted: versicolor : Actual versicolor\n",
            "Test Number 19 => Predicted: setosa : Actual setosa\n",
            "Test Number 20 => Predicted: virginica : Actual virginica\n",
            "Test Number 21 => Predicted: setosa : Actual setosa\n",
            "Test Number 22 => Predicted: versicolor : Actual versicolor\n",
            "Test Number 23 => Predicted: virginica : Actual virginica\n",
            "Test Number 24 => Predicted: versicolor : Actual versicolor\n",
            "Test Number 25 => Predicted: virginica : Actual virginica\n",
            "Test Number 26 => Predicted: virginica : Actual versicolor\n",
            "Test Number 27 => Predicted: versicolor : Actual versicolor\n",
            "Test Number 28 => Predicted: setosa : Actual setosa\n",
            "Test Number 29 => Predicted: virginica : Actual virginica\n",
            "Accuracy: 93.3333333333 %\n"
          ],
          "name": "stdout"
        }
      ]
    },
    {
      "metadata": {
        "id": "zMLSzAyEBl5Q",
        "colab_type": "code",
        "colab": {}
      },
      "cell_type": "code",
      "source": [
        ""
      ],
      "execution_count": 0,
      "outputs": []
    }
  ]
}